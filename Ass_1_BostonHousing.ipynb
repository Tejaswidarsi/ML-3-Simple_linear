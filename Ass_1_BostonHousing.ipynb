{
  "cells": [
    {
      "cell_type": "markdown",
      "metadata": {
        "id": "view-in-github",
        "colab_type": "text"
      },
      "source": [
        "<a href=\"https://colab.research.google.com/github/Tejaswidarsi/ML-3-Simple_linear/blob/main/Ass_1_BostonHousing.ipynb\" target=\"_parent\"><img src=\"https://colab.research.google.com/assets/colab-badge.svg\" alt=\"Open In Colab\"/></a>"
      ]
    },
    {
      "cell_type": "markdown",
      "source": [
        "##Import Libraries"
      ],
      "metadata": {
        "id": "9XfyCg8JgCjN"
      }
    },
    {
      "cell_type": "code",
      "execution_count": 9,
      "metadata": {
        "id": "UmUjP9bLok2Z",
        "colab": {
          "base_uri": "https://localhost:8080/"
        },
        "outputId": "031bd7b7-9dba-494f-d954-e0cb189abb8f"
      },
      "outputs": [
        {
          "output_type": "stream",
          "name": "stdout",
          "text": [
            "      crim    zn  indus  chas    nox     rm   age     dis  rad  tax  ptratio  \\\n",
            "0  0.00632  18.0   2.31     0  0.538  6.575  65.2  4.0900    1  296     15.3   \n",
            "1  0.02731   0.0   7.07     0  0.469  6.421  78.9  4.9671    2  242     17.8   \n",
            "2  0.02729   0.0   7.07     0  0.469  7.185  61.1  4.9671    2  242     17.8   \n",
            "3  0.03237   0.0   2.18     0  0.458  6.998  45.8  6.0622    3  222     18.7   \n",
            "4  0.06905   0.0   2.18     0  0.458  7.147  54.2  6.0622    3  222     18.7   \n",
            "\n",
            "        b  lstat  medv  \n",
            "0  396.90   4.98  24.0  \n",
            "1  396.90   9.14  21.6  \n",
            "2  392.83   4.03  34.7  \n",
            "3  394.63   2.94  33.4  \n",
            "4  396.90   5.33  36.2  \n",
            "<class 'pandas.core.frame.DataFrame'>\n",
            "RangeIndex: 506 entries, 0 to 505\n",
            "Data columns (total 14 columns):\n",
            " #   Column   Non-Null Count  Dtype  \n",
            "---  ------   --------------  -----  \n",
            " 0   crim     506 non-null    float64\n",
            " 1   zn       506 non-null    float64\n",
            " 2   indus    506 non-null    float64\n",
            " 3   chas     506 non-null    int64  \n",
            " 4   nox      506 non-null    float64\n",
            " 5   rm       506 non-null    float64\n",
            " 6   age      506 non-null    float64\n",
            " 7   dis      506 non-null    float64\n",
            " 8   rad      506 non-null    int64  \n",
            " 9   tax      506 non-null    int64  \n",
            " 10  ptratio  506 non-null    float64\n",
            " 11  b        506 non-null    float64\n",
            " 12  lstat    506 non-null    float64\n",
            " 13  medv     506 non-null    float64\n",
            "dtypes: float64(11), int64(3)\n",
            "memory usage: 55.5 KB\n",
            "None\n"
          ]
        }
      ],
      "source": [
        "import numpy as np\n",
        "import pandas as pd\n",
        "import matplotlib.pyplot as plt\n",
        "from sklearn.model_selection import train_test_split\n",
        "from sklearn.preprocessing import StandardScaler\n",
        "\n",
        "# Load dataset\n",
        "dataset = \"/content/BostonHousing.csv\"\n",
        "boston = pd.read_csv(dataset)\n",
        "\n",
        "# Inspect the dataset\n",
        "print(boston.head())\n",
        "print(boston.info())\n",
        "\n"
      ]
    },
    {
      "cell_type": "markdown",
      "source": [
        "###Analyze the input attributes and find the one with the best linear relationship with the output price"
      ],
      "metadata": {
        "id": "HOWi38oVfcLH"
      }
    },
    {
      "cell_type": "code",
      "execution_count": 11,
      "metadata": {
        "id": "MJ0Tiz9St5MK",
        "colab": {
          "base_uri": "https://localhost:8080/"
        },
        "outputId": "87e376c0-0844-4d1a-8c57-3c9aeec36a6b"
      },
      "outputs": [
        {
          "output_type": "stream",
          "name": "stdout",
          "text": [
            "medv       1.000000\n",
            "rm         0.695360\n",
            "zn         0.360445\n",
            "b          0.333461\n",
            "dis        0.249929\n",
            "chas       0.175260\n",
            "age       -0.376955\n",
            "rad       -0.381626\n",
            "crim      -0.388305\n",
            "nox       -0.427321\n",
            "tax       -0.468536\n",
            "indus     -0.483725\n",
            "ptratio   -0.507787\n",
            "lstat     -0.737663\n",
            "Name: medv, dtype: float64\n",
            "The feature that best follows a linear relationship with price is: rm\n"
          ]
        }
      ],
      "source": [
        "\n",
        "# Correlation matrix to identify best linear attribute\n",
        "correlation_matrix = boston.corr()\n",
        "print(correlation_matrix['medv'].sort_values(ascending=False))\n",
        "\n",
        "# Best correlated feature\n",
        "best_feature = correlation_matrix['medv'].sort_values(ascending=False).index[1]\n",
        "print(f\"The feature that best follows a linear relationship with price is: {best_feature}\")\n"
      ]
    },
    {
      "cell_type": "markdown",
      "source": [
        "###Implement the Analytic Formulation"
      ],
      "metadata": {
        "id": "O9Yl1v_i85P7"
      }
    },
    {
      "cell_type": "code",
      "source": [
        "# Preparing the input and output for regression\n",
        "X = boston[[best_feature]].values\n",
        "y = boston['medv'].values\n",
        "\n",
        "# Add a column of ones to X for the intercept term\n",
        "X_b = np.c_[np.ones((X.shape[0], 1)), X]\n",
        "\n",
        "# Compute the closed-form solution (Normal equation)\n",
        "theta_analytic = np.linalg.inv(X_b.T.dot(X_b)).dot(X_b.T).dot(y)\n",
        "print(f\"Analytic solution coefficients: {theta_analytic}\")\n"
      ],
      "metadata": {
        "colab": {
          "base_uri": "https://localhost:8080/"
        },
        "id": "H2sbYu_8Bsct",
        "outputId": "3964b0ac-fed1-4a4e-f357-be5f9e92cb12"
      },
      "execution_count": 12,
      "outputs": [
        {
          "output_type": "stream",
          "name": "stdout",
          "text": [
            "Analytic solution coefficients: [-34.67062078   9.10210898]\n"
          ]
        }
      ]
    },
    {
      "cell_type": "markdown",
      "source": [
        "###Implement Gradient Descent (Full-batch)"
      ],
      "metadata": {
        "id": "jrjl6Ghm3cnQ"
      }
    },
    {
      "cell_type": "code",
      "source": [
        "# Full-batch gradient descent\n",
        "def batch_gradient_descent(X, y, learning_rate=0.01, iterations=1000):\n",
        "    m = len(y)\n",
        "    X_b = np.c_[np.ones((X.shape[0], 1)), X]\n",
        "    theta = np.zeros(2)\n",
        "    for iteration in range(iterations):\n",
        "        gradients = 2/m * X_b.T.dot(X_b.dot(theta) - y)\n",
        "        theta = theta - learning_rate * gradients\n",
        "    return theta\n",
        "\n",
        "theta_batch = batch_gradient_descent(X, y)\n",
        "print(f\"Batch Gradient Descent coefficients: {theta_batch}\")\n"
      ],
      "metadata": {
        "id": "UYT-mqJF3kRE",
        "colab": {
          "base_uri": "https://localhost:8080/"
        },
        "outputId": "6c224948-32ce-4055-9621-d52ed99474aa"
      },
      "execution_count": 13,
      "outputs": [
        {
          "output_type": "stream",
          "name": "stdout",
          "text": [
            "Batch Gradient Descent coefficients: [-6.97094389  4.74757935]\n"
          ]
        }
      ]
    },
    {
      "cell_type": "markdown",
      "metadata": {
        "id": "koe4j_0zv8i_"
      },
      "source": [
        "###Implement Stochastic Gradient Descent"
      ]
    },
    {
      "cell_type": "code",
      "execution_count": 14,
      "metadata": {
        "id": "MVADOcSzvjbG",
        "colab": {
          "base_uri": "https://localhost:8080/"
        },
        "outputId": "2a3a8d23-98b6-4d47-b539-d1db93cb0720"
      },
      "outputs": [
        {
          "output_type": "stream",
          "name": "stdout",
          "text": [
            "Stochastic Gradient Descent coefficients: [-35.21856853   9.48847488]\n"
          ]
        }
      ],
      "source": [
        "# Stochastic Gradient Descent\n",
        "def stochastic_gradient_descent(X, y, learning_rate=0.01, epochs=50):\n",
        "    m = len(y)\n",
        "    X_b = np.c_[np.ones((X.shape[0], 1)), X]\n",
        "    theta = np.zeros(2)\n",
        "    for epoch in range(epochs):\n",
        "        for i in range(m):\n",
        "            random_index = np.random.randint(m)\n",
        "            xi = X_b[random_index:random_index+1]\n",
        "            yi = y[random_index:random_index+1]\n",
        "            gradients = 2 * xi.T.dot(xi.dot(theta) - yi)\n",
        "            theta = theta - learning_rate * gradients\n",
        "    return theta\n",
        "\n",
        "theta_stochastic = stochastic_gradient_descent(X, y)\n",
        "print(f\"Stochastic Gradient Descent coefficients: {theta_stochastic}\")\n",
        "\n"
      ]
    },
    {
      "cell_type": "markdown",
      "source": [
        "###Compare the results"
      ],
      "metadata": {
        "id": "JHD7I3CF3NBq"
      }
    },
    {
      "cell_type": "code",
      "source": [
        "print(f\"Analytic solution coefficients: {theta_analytic}\")\n",
        "print(f\"Batch Gradient Descent coefficients: {theta_batch}\")\n",
        "print(f\"Stochastic Gradient Descent coefficients: {theta_stochastic}\")\n"
      ],
      "metadata": {
        "id": "8pszTzPt0Pf6",
        "colab": {
          "base_uri": "https://localhost:8080/"
        },
        "outputId": "ab58c321-5822-41de-e922-4076365d8e7b"
      },
      "execution_count": 15,
      "outputs": [
        {
          "output_type": "stream",
          "name": "stdout",
          "text": [
            "Analytic solution coefficients: [-34.67062078   9.10210898]\n",
            "Batch Gradient Descent coefficients: [-6.97094389  4.74757935]\n",
            "Stochastic Gradient Descent coefficients: [-35.21856853   9.48847488]\n"
          ]
        }
      ]
    }
  ],
  "metadata": {
    "colab": {
      "provenance": [],
      "authorship_tag": "ABX9TyMx5RcS3FgqTd8g0McyUZKc",
      "include_colab_link": true
    },
    "kernelspec": {
      "display_name": "Python 3",
      "name": "python3"
    },
    "language_info": {
      "name": "python"
    }
  },
  "nbformat": 4,
  "nbformat_minor": 0
}