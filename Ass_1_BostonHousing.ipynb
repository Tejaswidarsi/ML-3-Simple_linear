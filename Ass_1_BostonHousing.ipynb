{
  "cells": [
    {
      "cell_type": "markdown",
      "metadata": {
        "id": "view-in-github",
        "colab_type": "text"
      },
      "source": [
        "<a href=\"https://colab.research.google.com/github/Tejaswidarsi/ML-3-Simple_linear/blob/main/Ass_1_BostonHousing.ipynb\" target=\"_parent\"><img src=\"https://colab.research.google.com/assets/colab-badge.svg\" alt=\"Open In Colab\"/></a>"
      ]
    },
    {
      "cell_type": "markdown",
      "source": [
        "##Dataset Path"
      ],
      "metadata": {
        "id": "HOWi38oVfcLH"
      }
    },
    {
      "cell_type": "code",
      "execution_count": 5,
      "metadata": {
        "id": "MJ0Tiz9St5MK"
      },
      "outputs": [],
      "source": [
        "\n",
        "dataset = \"/content/BostonHousing.csv\"\n"
      ]
    },
    {
      "cell_type": "markdown",
      "source": [
        "##Import Libraries"
      ],
      "metadata": {
        "id": "9XfyCg8JgCjN"
      }
    },
    {
      "cell_type": "code",
      "execution_count": 6,
      "metadata": {
        "id": "UmUjP9bLok2Z"
      },
      "outputs": [],
      "source": [
        "import pandas as pd\n",
        "import numpy as np\n",
        "import sklearn.datasets\n",
        "from sklearn.model_selection import train_test_split\n",
        "from sklearn.preprocessing import StandardScaler\n",
        "import matplotlib.pyplot as plt\n",
        "import seaborn as sns\n",
        "from sklearn.metrics import r2_score\n",
        "from sklearn.compose import ColumnTransformer\n",
        "from sklearn.preprocessing import OneHotEncoder"
      ]
    },
    {
      "cell_type": "markdown",
      "source": [
        "##Initialization"
      ],
      "metadata": {
        "id": "gUlfhZ52gHS_"
      }
    },
    {
      "cell_type": "code",
      "execution_count": 15,
      "metadata": {
        "colab": {
          "base_uri": "https://localhost:8080/"
        },
        "id": "8VVYYWoltzR5",
        "outputId": "2a365b6e-15c4-466a-fdaa-73d86065d74e"
      },
      "outputs": [
        {
          "output_type": "stream",
          "name": "stdout",
          "text": [
            "      crim    zn  indus  chas    nox     rm   age     dis  rad  tax  ptratio  \\\n",
            "0  0.00632  18.0   2.31     0  0.538  6.575  65.2  4.0900    1  296     15.3   \n",
            "1  0.02731   0.0   7.07     0  0.469  6.421  78.9  4.9671    2  242     17.8   \n",
            "2  0.02729   0.0   7.07     0  0.469  7.185  61.1  4.9671    2  242     17.8   \n",
            "3  0.03237   0.0   2.18     0  0.458  6.998  45.8  6.0622    3  222     18.7   \n",
            "4  0.06905   0.0   2.18     0  0.458  7.147  54.2  6.0622    3  222     18.7   \n",
            "\n",
            "        b  lstat  medv  \n",
            "0  396.90   4.98  24.0  \n",
            "1  396.90   9.14  21.6  \n",
            "2  392.83   4.03  34.7  \n",
            "3  394.63   2.94  33.4  \n",
            "4  396.90   5.33  36.2  \n"
          ]
        }
      ],
      "source": [
        "List = pd.read_csv(dataset)\n",
        "\n",
        "df= pd.DataFrame(List)\n",
        "X = df.iloc[:, :-1].values\n",
        "y = df.iloc[:, -1].values\n",
        "print(df.head())"
      ]
    },
    {
      "cell_type": "code",
      "source": [
        "print(df.columns)"
      ],
      "metadata": {
        "colab": {
          "base_uri": "https://localhost:8080/"
        },
        "id": "e4jABsa3hwa_",
        "outputId": "7c2db7d4-daeb-4845-bd1c-43a92b79434f"
      },
      "execution_count": 13,
      "outputs": [
        {
          "output_type": "stream",
          "name": "stdout",
          "text": [
            "Index(['crim', 'zn', 'indus', 'chas', 'nox', 'rm', 'age', 'dis', 'rad', 'tax',\n",
            "       'ptratio', 'b', 'lstat', 'medv'],\n",
            "      dtype='object')\n"
          ]
        }
      ]
    },
    {
      "cell_type": "markdown",
      "metadata": {
        "id": "urzx62trvkhS"
      },
      "source": [
        "##Encode"
      ]
    },
    {
      "cell_type": "code",
      "execution_count": 10,
      "metadata": {
        "id": "RyFx-_gdvnA2"
      },
      "outputs": [],
      "source": [
        "from sklearn.compose import ColumnTransformer\n",
        "from sklearn.preprocessing import OneHotEncoder\n",
        "ct = ColumnTransformer(transformers=[('encoder', OneHotEncoder(), [3])], remainder='passthrough')\n",
        "X = np.array(ct.fit_transform(X))\n",
        "\n",
        "\n"
      ]
    },
    {
      "cell_type": "markdown",
      "metadata": {
        "id": "koe4j_0zv8i_"
      },
      "source": [
        "##Splitting"
      ]
    },
    {
      "cell_type": "code",
      "execution_count": 14,
      "metadata": {
        "id": "MVADOcSzvjbG"
      },
      "outputs": [],
      "source": [
        "X_train,X_test,Y_train,Y_test = train_test_split(X,y,test_size=0.2,random_state=0)\n"
      ]
    },
    {
      "cell_type": "markdown",
      "source": [
        "##Standardize"
      ],
      "metadata": {
        "id": "bL0FZoLlfVDL"
      }
    },
    {
      "cell_type": "code",
      "execution_count": 16,
      "metadata": {
        "id": "fHHz6S4cBNF7"
      },
      "outputs": [],
      "source": [
        "scaler = StandardScaler()\n",
        "scaler.fit(X_train)\n",
        "X_train = scaler.transform(X_train)\n",
        "X_test = scaler.transform(X_test)"
      ]
    },
    {
      "cell_type": "code",
      "execution_count": 17,
      "metadata": {
        "colab": {
          "base_uri": "https://localhost:8080/"
        },
        "id": "7e6QDGX9y1kw",
        "outputId": "2cd26ddd-0987-4e95-b1d0-a3c1e87bb066"
      },
      "outputs": [
        {
          "output_type": "stream",
          "name": "stdout",
          "text": [
            "1.0000000000000004\n"
          ]
        }
      ],
      "source": [
        "print(X_train.std())"
      ]
    },
    {
      "cell_type": "markdown",
      "metadata": {
        "id": "p8SqeUT9wFeZ"
      },
      "source": [
        "##Training the regresssion model"
      ]
    },
    {
      "cell_type": "code",
      "execution_count": 18,
      "metadata": {
        "colab": {
          "base_uri": "https://localhost:8080/",
          "height": 74
        },
        "id": "dkRXv0MwwFGi",
        "outputId": "9ab1e6c6-e0b7-48e6-ed30-a291531f55de"
      },
      "outputs": [
        {
          "output_type": "execute_result",
          "data": {
            "text/plain": [
              "LinearRegression()"
            ],
            "text/html": [
              "<style>#sk-container-id-1 {color: black;}#sk-container-id-1 pre{padding: 0;}#sk-container-id-1 div.sk-toggleable {background-color: white;}#sk-container-id-1 label.sk-toggleable__label {cursor: pointer;display: block;width: 100%;margin-bottom: 0;padding: 0.3em;box-sizing: border-box;text-align: center;}#sk-container-id-1 label.sk-toggleable__label-arrow:before {content: \"▸\";float: left;margin-right: 0.25em;color: #696969;}#sk-container-id-1 label.sk-toggleable__label-arrow:hover:before {color: black;}#sk-container-id-1 div.sk-estimator:hover label.sk-toggleable__label-arrow:before {color: black;}#sk-container-id-1 div.sk-toggleable__content {max-height: 0;max-width: 0;overflow: hidden;text-align: left;background-color: #f0f8ff;}#sk-container-id-1 div.sk-toggleable__content pre {margin: 0.2em;color: black;border-radius: 0.25em;background-color: #f0f8ff;}#sk-container-id-1 input.sk-toggleable__control:checked~div.sk-toggleable__content {max-height: 200px;max-width: 100%;overflow: auto;}#sk-container-id-1 input.sk-toggleable__control:checked~label.sk-toggleable__label-arrow:before {content: \"▾\";}#sk-container-id-1 div.sk-estimator input.sk-toggleable__control:checked~label.sk-toggleable__label {background-color: #d4ebff;}#sk-container-id-1 div.sk-label input.sk-toggleable__control:checked~label.sk-toggleable__label {background-color: #d4ebff;}#sk-container-id-1 input.sk-hidden--visually {border: 0;clip: rect(1px 1px 1px 1px);clip: rect(1px, 1px, 1px, 1px);height: 1px;margin: -1px;overflow: hidden;padding: 0;position: absolute;width: 1px;}#sk-container-id-1 div.sk-estimator {font-family: monospace;background-color: #f0f8ff;border: 1px dotted black;border-radius: 0.25em;box-sizing: border-box;margin-bottom: 0.5em;}#sk-container-id-1 div.sk-estimator:hover {background-color: #d4ebff;}#sk-container-id-1 div.sk-parallel-item::after {content: \"\";width: 100%;border-bottom: 1px solid gray;flex-grow: 1;}#sk-container-id-1 div.sk-label:hover label.sk-toggleable__label {background-color: #d4ebff;}#sk-container-id-1 div.sk-serial::before {content: \"\";position: absolute;border-left: 1px solid gray;box-sizing: border-box;top: 0;bottom: 0;left: 50%;z-index: 0;}#sk-container-id-1 div.sk-serial {display: flex;flex-direction: column;align-items: center;background-color: white;padding-right: 0.2em;padding-left: 0.2em;position: relative;}#sk-container-id-1 div.sk-item {position: relative;z-index: 1;}#sk-container-id-1 div.sk-parallel {display: flex;align-items: stretch;justify-content: center;background-color: white;position: relative;}#sk-container-id-1 div.sk-item::before, #sk-container-id-1 div.sk-parallel-item::before {content: \"\";position: absolute;border-left: 1px solid gray;box-sizing: border-box;top: 0;bottom: 0;left: 50%;z-index: -1;}#sk-container-id-1 div.sk-parallel-item {display: flex;flex-direction: column;z-index: 1;position: relative;background-color: white;}#sk-container-id-1 div.sk-parallel-item:first-child::after {align-self: flex-end;width: 50%;}#sk-container-id-1 div.sk-parallel-item:last-child::after {align-self: flex-start;width: 50%;}#sk-container-id-1 div.sk-parallel-item:only-child::after {width: 0;}#sk-container-id-1 div.sk-dashed-wrapped {border: 1px dashed gray;margin: 0 0.4em 0.5em 0.4em;box-sizing: border-box;padding-bottom: 0.4em;background-color: white;}#sk-container-id-1 div.sk-label label {font-family: monospace;font-weight: bold;display: inline-block;line-height: 1.2em;}#sk-container-id-1 div.sk-label-container {text-align: center;}#sk-container-id-1 div.sk-container {/* jupyter's `normalize.less` sets `[hidden] { display: none; }` but bootstrap.min.css set `[hidden] { display: none !important; }` so we also need the `!important` here to be able to override the default hidden behavior on the sphinx rendered scikit-learn.org. See: https://github.com/scikit-learn/scikit-learn/issues/21755 */display: inline-block !important;position: relative;}#sk-container-id-1 div.sk-text-repr-fallback {display: none;}</style><div id=\"sk-container-id-1\" class=\"sk-top-container\"><div class=\"sk-text-repr-fallback\"><pre>LinearRegression()</pre><b>In a Jupyter environment, please rerun this cell to show the HTML representation or trust the notebook. <br />On GitHub, the HTML representation is unable to render, please try loading this page with nbviewer.org.</b></div><div class=\"sk-container\" hidden><div class=\"sk-item\"><div class=\"sk-estimator sk-toggleable\"><input class=\"sk-toggleable__control sk-hidden--visually\" id=\"sk-estimator-id-1\" type=\"checkbox\" checked><label for=\"sk-estimator-id-1\" class=\"sk-toggleable__label sk-toggleable__label-arrow\">LinearRegression</label><div class=\"sk-toggleable__content\"><pre>LinearRegression()</pre></div></div></div></div></div>"
            ]
          },
          "metadata": {},
          "execution_count": 18
        }
      ],
      "source": [
        "from sklearn.linear_model import LinearRegression\n",
        "regressor = LinearRegression()\n",
        "regressor.fit(X_train, Y_train)"
      ]
    },
    {
      "cell_type": "markdown",
      "metadata": {
        "id": "sD252JK3wSNP"
      },
      "source": [
        "##Predicting the test results"
      ]
    },
    {
      "cell_type": "code",
      "execution_count": 19,
      "metadata": {
        "colab": {
          "base_uri": "https://localhost:8080/"
        },
        "id": "higwaZk5wPI8",
        "outputId": "3914630b-88a0-48d6-f4d3-de10be79fec4",
        "collapsed": true
      },
      "outputs": [
        {
          "output_type": "stream",
          "name": "stdout",
          "text": [
            "[[25.19 22.6 ]\n",
            " [24.06 50.  ]\n",
            " [29.41 23.  ]\n",
            " [12.41  8.3 ]\n",
            " [21.89 21.2 ]\n",
            " [19.45 19.9 ]\n",
            " [21.1  20.6 ]\n",
            " [21.55 18.7 ]\n",
            " [19.69 16.1 ]\n",
            " [19.88 18.6 ]\n",
            " [ 5.07  8.8 ]\n",
            " [16.38 17.2 ]\n",
            " [16.84 14.9 ]\n",
            " [ 6.   10.5 ]\n",
            " [39.62 50.  ]\n",
            " [24.95 29.  ]\n",
            " [23.04 23.  ]\n",
            " [36.37 33.3 ]\n",
            " [31.16 29.4 ]\n",
            " [23.57 21.  ]\n",
            " [24.94 23.8 ]\n",
            " [25.28 19.1 ]\n",
            " [20.58 20.4 ]\n",
            " [30.45 29.1 ]\n",
            " [23.11 19.3 ]\n",
            " [11.62 23.1 ]\n",
            " [17.59 19.6 ]\n",
            " [18.12 19.4 ]\n",
            " [35.04 38.7 ]\n",
            " [21.04 18.7 ]\n",
            " [18.49 14.6 ]\n",
            " [17.81 20.  ]\n",
            " [22.04 20.5 ]\n",
            " [19.86 20.1 ]\n",
            " [29.31 23.6 ]\n",
            " [18.99 16.8 ]\n",
            " [10.97  5.6 ]\n",
            " [24.7  50.  ]\n",
            " [17.85 14.5 ]\n",
            " [15.66 13.3 ]\n",
            " [27.09 23.9 ]\n",
            " [21.42 20.  ]\n",
            " [22.62 19.8 ]\n",
            " [16.24 13.8 ]\n",
            " [22.86 16.5 ]\n",
            " [25.39 21.6 ]\n",
            " [20.91 20.3 ]\n",
            " [22.26 17.  ]\n",
            " [ 9.96 11.8 ]\n",
            " [24.07 27.5 ]\n",
            " [20.34 15.6 ]\n",
            " [17.52 23.1 ]\n",
            " [24.96 24.3 ]\n",
            " [31.29 42.8 ]\n",
            " [13.49 15.6 ]\n",
            " [22.51 21.7 ]\n",
            " [19.74 17.1 ]\n",
            " [15.71 17.2 ]\n",
            " [14.58 15.  ]\n",
            " [22.16 21.7 ]\n",
            " [17.22 18.6 ]\n",
            " [21.76 21.  ]\n",
            " [27.88 33.1 ]\n",
            " [31.54 31.5 ]\n",
            " [18.35 20.1 ]\n",
            " [34.39 29.8 ]\n",
            " [18.39 15.2 ]\n",
            " [20.11 15.  ]\n",
            " [18.94 27.5 ]\n",
            " [23.46 22.6 ]\n",
            " [23.39 20.  ]\n",
            " [24.55 21.4 ]\n",
            " [30.62 23.5 ]\n",
            " [23.57 31.2 ]\n",
            " [26.29 23.7 ]\n",
            " [ 5.41  7.4 ]\n",
            " [36.25 48.3 ]\n",
            " [24.06 24.4 ]\n",
            " [27.39 22.6 ]\n",
            " [19.41 18.3 ]\n",
            " [24.34 23.3 ]\n",
            " [18.97 17.1 ]\n",
            " [19.45 27.9 ]\n",
            " [37.36 44.8 ]\n",
            " [38.52 50.  ]\n",
            " [23.97 23.  ]\n",
            " [25.19 21.4 ]\n",
            " [16.48 10.2 ]\n",
            " [25.74 23.3 ]\n",
            " [16.7  23.2 ]\n",
            " [15.74 18.9 ]\n",
            " [12.63 13.4 ]\n",
            " [24.48 21.9 ]\n",
            " [23.69 24.8 ]\n",
            " [22.22 11.9 ]\n",
            " [22.47 24.3 ]\n",
            " [ 1.14 13.8 ]\n",
            " [22.84 24.7 ]\n",
            " [15.36 14.1 ]\n",
            " [17.13 18.7 ]\n",
            " [25.66 28.1 ]\n",
            " [22.2  19.8 ]]\n"
          ]
        }
      ],
      "source": [
        "y_pred = regressor.predict(X_test)\n",
        "np.set_printoptions(precision=2)\n",
        "print(np.concatenate((y_pred.reshape(len(y_pred),1), Y_test.reshape(len(Y_test),1)),1))"
      ]
    },
    {
      "cell_type": "markdown",
      "metadata": {
        "id": "CgY4OXirwf-r"
      },
      "source": [
        "##Full-Batch Gradient Descent\n",
        "\n",
        "Updates the model's parameters using the entire dataset for each iteration, ensuring stable convergence but requiring more computational power and memory."
      ]
    },
    {
      "cell_type": "code",
      "execution_count": 20,
      "metadata": {
        "colab": {
          "base_uri": "https://localhost:8080/"
        },
        "id": "giTg1hthwh0G",
        "outputId": "17e5c5ad-ce8f-45a9-bb56-52b7a0e4aed9"
      },
      "outputs": [
        {
          "output_type": "stream",
          "name": "stdout",
          "text": [
            "SSE: 3845.3794\n",
            "R-squared: 0.5370\n",
            "Final Parameters:\n",
            "beta_0: 16.75058344042181\n",
            "beta_1: [ 0.83 -0.83  3.12  0.52 -0.83 -3.92 -1.68  1.4  -0.42 -1.45  0.51 -1.68\n",
            "  0.74  0.28  0.48  0.38 -1.45  0.74  0.13  0.24  0.5   0.5  -1.18  0.37\n",
            " -1.88 -1.68 -0.83 -0.82  0.82 -0.27 -0.38 -1.46  2.54 -0.67 -0.93  1.05\n",
            "  1.36 -1.19  0.8  -3.78]\n"
          ]
        }
      ],
      "source": [
        "learning_rate = 0.001\n",
        "iterations = 1000\n",
        "\n",
        "beta_0 = 0.0\n",
        "beta_1 = np.zeros(X_test.shape[1])\n",
        "\n",
        "for i in range(iterations):\n",
        "\n",
        "    y_pred = beta_0 + np.dot(X_test,beta_1)\n",
        "    error = y_pred - Y_test\n",
        "\n",
        "\n",
        "    grad_0 = np.mean(error)  # Gradient with respect to beta_0\n",
        "    grad_1 = np.dot(X_test.T, error) / X_test.shape[0]  # Gradient with respect to beta_1\n",
        "\n",
        "\n",
        "    beta_0 -= learning_rate *( grad_0*2)\n",
        "    beta_1 -= learning_rate * (grad_1*2)\n",
        "y_mean = np.mean(Y_test)\n",
        "F_SST = np.sum((Y_test - y_mean)**2)\n",
        "F_SSE = np.sum(error**2)\n",
        "F_r2_score =1 - (F_SSE/F_SST)\n",
        "print(f\"SSE: {F_SSE:.4f}\")\n",
        "print(f\"R-squared: {F_r2_score:.4f}\")\n",
        "print(\"Final Parameters:\")\n",
        "print(\"beta_0:\", beta_0)\n",
        "print(\"beta_1:\", beta_1)\n"
      ]
    },
    {
      "cell_type": "markdown",
      "metadata": {
        "id": "XsHZceIT77sr"
      },
      "source": [
        "##Stochastic Gradient Descent\n",
        "\n",
        "\n",
        "\n",
        "Updates the model's parameters for each training example individually, leading to faster updates but with more noise in the convergence path.\n",
        "\n",
        "\n",
        "\n"
      ]
    },
    {
      "cell_type": "code",
      "execution_count": null,
      "metadata": {
        "colab": {
          "base_uri": "https://localhost:8080/"
        },
        "id": "_OSUm4zEwfgD",
        "outputId": "f4276523-0535-411c-ad92-8a32ae46d02d"
      },
      "outputs": [
        {
          "output_type": "stream",
          "name": "stdout",
          "text": [
            "SSE: 262.4528\n",
            "R-squared: 0.9684\n",
            "Final Parameters:\n",
            "beta_0: [22.17 22.17 22.46 22.22 22.17 21.07 22.   22.14 22.18 22.06 22.23 22.\n",
            " 22.17 22.25 22.26 22.24 22.06 22.18 22.23 22.14 22.24 22.23 22.11 22.2\n",
            " 21.95 22.   22.17 22.23 22.23 22.53 22.24 22.08 22.9  22.05 22.15 22.37\n",
            " 22.65 22.18 22.47 21.98]\n",
            "beta_1: [ 1.1  -1.1  -1.45 -0.56 -1.1  -4.93 -2.2   0.95 -0.53 -1.91 -0.04 -2.2\n",
            "  0.77 -0.36  0.84  0.85 -1.91  0.64 -0.31  0.21 -0.24  0.68 -1.56  0.12\n",
            " -2.46 -2.2  -1.1  -1.46  1.46 -2.34 -3.02 -2.66  5.67 -2.12  1.14 -1.85\n",
            " -2.79 -2.59  2.08 -6.67]\n"
          ]
        }
      ],
      "source": [
        "learning_rate = 0.001\n",
        "iterations = 1000\n",
        "beta_0 =0.0\n",
        "beta_1 = 0.0\n",
        "for i in range(iterations):\n",
        "  for j in range(X_test.shape[0]):\n",
        "    x_i = X_test[j]\n",
        "    y_i = Y_test[j]\n",
        "    y_pred = beta_0 + beta_1 * x_i\n",
        "    error = y_pred - y_i\n",
        "    grad_0 =error\n",
        "    grad_1 =error * x_i\n",
        "    beta_0 -= learning_rate * grad_0\n",
        "    beta_1 -= learning_rate * grad_1\n",
        "\n",
        "S_SST = np.sum((Y_test - y_mean)**2)\n",
        "S_SSE = np.sum(error**2)\n",
        "S_r2_score =1 - (S_SSE/S_SST)\n",
        "print(f\"SSE: {S_SSE:.4f}\")\n",
        "print(f\"R-squared: {S_r2_score:.4f}\")\n",
        "print(\"Final Parameters:\")\n",
        "print(\"beta_0:\", beta_0)\n",
        "print(\"beta_1:\", beta_1)\n"
      ]
    }
  ],
  "metadata": {
    "colab": {
      "provenance": [],
      "authorship_tag": "ABX9TyNIc7A6vKu4wz3d+KUDWINH",
      "include_colab_link": true
    },
    "kernelspec": {
      "display_name": "Python 3",
      "name": "python3"
    },
    "language_info": {
      "name": "python"
    }
  },
  "nbformat": 4,
  "nbformat_minor": 0
}